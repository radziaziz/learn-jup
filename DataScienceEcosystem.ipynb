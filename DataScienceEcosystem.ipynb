{
  "nbformat": 4,
  "nbformat_minor": 0,
  "metadata": {
    "colab": {
      "provenance": []
    },
    "kernelspec": {
      "name": "python3",
      "display_name": "Python 3"
    },
    "language_info": {
      "name": "python"
    }
  },
  "cells": [
    {
      "cell_type": "markdown",
      "source": [
        "#Data Science Tools and Ecosystem"
      ],
      "metadata": {
        "id": "HzV1lMW0GUTv"
      }
    },
    {
      "cell_type": "markdown",
      "source": [
        "In this notebook, Data Science Tools and Ecosystem are summarized."
      ],
      "metadata": {
        "id": "GPSmEytZdHds"
      }
    },
    {
      "cell_type": "markdown",
      "source": [
        "**Objectives:**\n",
        "\n",
        "\n",
        "*   List popular languages for Data Science\n",
        "*   List popular Data Science libraries\n",
        "*   List popular Data Science tools\n",
        "*   Write arithmetic expression\n",
        "*   Write simple coding\n",
        "\n"
      ],
      "metadata": {
        "id": "6dhdwpGoKGUX"
      }
    },
    {
      "cell_type": "markdown",
      "source": [
        "Some of the popular languages that Data Scientists use are:\n",
        "1. Python\n",
        "2. R\n",
        "3. Julia"
      ],
      "metadata": {
        "id": "zqQLxuxSGpaO"
      }
    },
    {
      "cell_type": "markdown",
      "source": [
        "Some of the commonly used libraries used by Data Scientists include:\n",
        "\n",
        "1. NumPy\n",
        "2. Pandas\n",
        "3. Matplotlib\n",
        "4. ggplot\n",
        "5. caret\n",
        "6. dplyr"
      ],
      "metadata": {
        "id": "9U_X0b0oHdmL"
      }
    },
    {
      "cell_type": "markdown",
      "source": [
        "| Data Science Tools |\n",
        "----\n",
        "|Jupyter Notebook|\n",
        "|RStudio|\n",
        "|VSCodium|"
      ],
      "metadata": {
        "id": "1nQgnwaxHzrl"
      }
    },
    {
      "cell_type": "markdown",
      "source": [
        "### Below are a few examples of evaluating arithmetic expressions in Python.\n",
        "\n",
        "#### Addition\n",
        "1+2\n",
        "\n",
        "#### Subtraction\n",
        "2-1\n",
        "\n",
        "#### Multiplication\n",
        "1*2\n",
        "\n",
        "#### Division\n",
        "1/2\n"
      ],
      "metadata": {
        "id": "SCvMCQPIIg7a"
      }
    },
    {
      "cell_type": "code",
      "source": [
        "# This a simple arithmetic expression to mutiply then add integers\n",
        "(3*4)+5"
      ],
      "metadata": {
        "colab": {
          "base_uri": "https://localhost:8080/"
        },
        "id": "OPTxyYWwJBe_",
        "outputId": "bee44586-0153-429a-8b93-487179221895"
      },
      "execution_count": 1,
      "outputs": [
        {
          "output_type": "execute_result",
          "data": {
            "text/plain": [
              "17"
            ]
          },
          "metadata": {},
          "execution_count": 1
        }
      ]
    },
    {
      "cell_type": "code",
      "source": [
        "# This will convert 200 minutes to hours by diving by 60.\n",
        "minutes = 200\n",
        "hours = minutes / 60\n",
        "print(hours)"
      ],
      "metadata": {
        "colab": {
          "base_uri": "https://localhost:8080/"
        },
        "id": "1D92eJr6JYHW",
        "outputId": "e49ac89c-46d1-4613-9107-f702ae413053"
      },
      "execution_count": 3,
      "outputs": [
        {
          "output_type": "stream",
          "name": "stdout",
          "text": [
            "3.3333333333333335\n"
          ]
        }
      ]
    },
    {
      "cell_type": "markdown",
      "source": [
        "## Author\n",
        "Radzi Aziz"
      ],
      "metadata": {
        "id": "-qeB8etbK7U4"
      }
    }
  ]
}